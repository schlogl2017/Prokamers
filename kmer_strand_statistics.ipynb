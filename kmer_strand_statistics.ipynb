{
 "cells": [
  {
   "cell_type": "code",
   "execution_count": null,
   "id": "8596a4b0",
   "metadata": {
    "id": "8596a4b0"
   },
   "outputs": [],
   "source": [
    "import re\n",
    "import os\n",
    "from typing import Iterator, DefaultDict, Dict\n",
    "from collections import defaultdict\n",
    "import numpy as np\n",
    "import pandas as pd\n",
    "import matplotlib.pyplot as plt\n",
    "from fasta_parser import parse_fasta"
   ]
  },
  {
   "cell_type": "code",
   "execution_count": null,
   "id": "4ec46e07",
   "metadata": {
    "id": "4ec46e07"
   },
   "outputs": [],
   "source": [
    "filename1 = 'Results/Length/All_Chromosomes_length.csv'\n",
    "genome_len = pd.read_csv(filename1, names=['name', 'len'])"
   ]
  },
  {
   "cell_type": "code",
   "execution_count": null,
   "id": "77b483fd",
   "metadata": {
    "id": "77b483fd"
   },
   "outputs": [],
   "source": [
    "def genome_length(filename, name):\n",
    "    genome_len = pd.read_csv(filename1, names=['name', 'len'])\n",
    "    gen_len = genome_len['len'].loc[genome_len['name'] == name].values[0]\n",
    "    return gen_len"
   ]
  },
  {
   "cell_type": "code",
   "execution_count": null,
   "id": "3adc97e7",
   "metadata": {
    "id": "3adc97e7"
   },
   "outputs": [],
   "source": [
    "gen_len = genome_length(filename1, 'Actinotignum')"
   ]
  },
  {
   "cell_type": "code",
   "execution_count": null,
   "id": "4da3e69c",
   "metadata": {
    "id": "4da3e69c"
   },
   "outputs": [],
   "source": [
    "filename = 'Results/kmer_counts/Actinotignum/GCF_000724605.1_chr_k2_8_chr.csv'"
   ]
  },
  {
   "cell_type": "code",
   "execution_count": null,
   "id": "ad6e55b3",
   "metadata": {
    "id": "ad6e55b3"
   },
   "outputs": [],
   "source": [
    "def get_kmer_frequencies_csvs(filename, seq_len):\n",
    "    df_grp = []\n",
    "    km_data = pd.read_csv(filename, names=['kmer', 'count'])\n",
    "    km_data['length'] = km_data['kmer'].str.len()\n",
    "    km_grouped = km_data.groupby('length')\n",
    "    for i in (range(2, 9)):\n",
    "        grp = km_grouped.get_group(i).copy()\n",
    "        grp['freq'] = grp['count'] / (seq_len - i + 1)\n",
    "        print(f\"Frequency of kmers of lenth {i}: {grp['freq'].sum()}\")\n",
    "        df_grp.append(grp)\n",
    "    return pd.concat(df_grp)"
   ]
  },
  {
   "cell_type": "code",
   "execution_count": null,
   "id": "dbceaa61",
   "metadata": {
    "id": "dbceaa61",
    "outputId": "678d32e1-1e36-41fb-9107-345c6ded4fbc"
   },
   "outputs": [
    {
     "name": "stdout",
     "output_type": "stream",
     "text": [
      "Frequency of kmers of lenth 2: 1.0\n",
      "Frequency of kmers of lenth 3: 1.0\n",
      "Frequency of kmers of lenth 4: 1.0\n",
      "Frequency of kmers of lenth 5: 1.0\n",
      "Frequency of kmers of lenth 6: 1.0\n",
      "Frequency of kmers of lenth 7: 1.0\n",
      "Frequency of kmers of lenth 8: 1.0\n"
     ]
    },
    {
     "data": {
      "text/html": [
       "<div>\n",
       "<style scoped>\n",
       "    .dataframe tbody tr th:only-of-type {\n",
       "        vertical-align: middle;\n",
       "    }\n",
       "\n",
       "    .dataframe tbody tr th {\n",
       "        vertical-align: top;\n",
       "    }\n",
       "\n",
       "    .dataframe thead th {\n",
       "        text-align: right;\n",
       "    }\n",
       "</style>\n",
       "<table border=\"1\" class=\"dataframe\">\n",
       "  <thead>\n",
       "    <tr style=\"text-align: right;\">\n",
       "      <th></th>\n",
       "      <th>kmer</th>\n",
       "      <th>count</th>\n",
       "      <th>length</th>\n",
       "      <th>freq</th>\n",
       "    </tr>\n",
       "  </thead>\n",
       "  <tbody>\n",
       "    <tr>\n",
       "      <th>0</th>\n",
       "      <td>AA</td>\n",
       "      <td>95782</td>\n",
       "      <td>2</td>\n",
       "      <td>0.044358</td>\n",
       "    </tr>\n",
       "    <tr>\n",
       "      <th>1</th>\n",
       "      <td>AC</td>\n",
       "      <td>105375</td>\n",
       "      <td>2</td>\n",
       "      <td>0.048800</td>\n",
       "    </tr>\n",
       "    <tr>\n",
       "      <th>2</th>\n",
       "      <td>AG</td>\n",
       "      <td>106131</td>\n",
       "      <td>2</td>\n",
       "      <td>0.049151</td>\n",
       "    </tr>\n",
       "    <tr>\n",
       "      <th>3</th>\n",
       "      <td>AT</td>\n",
       "      <td>100621</td>\n",
       "      <td>2</td>\n",
       "      <td>0.046599</td>\n",
       "    </tr>\n",
       "    <tr>\n",
       "      <th>4</th>\n",
       "      <td>CA</td>\n",
       "      <td>122154</td>\n",
       "      <td>2</td>\n",
       "      <td>0.056571</td>\n",
       "    </tr>\n",
       "    <tr>\n",
       "      <th>...</th>\n",
       "      <td>...</td>\n",
       "      <td>...</td>\n",
       "      <td>...</td>\n",
       "      <td>...</td>\n",
       "    </tr>\n",
       "    <tr>\n",
       "      <th>87371</th>\n",
       "      <td>TTTTTTGT</td>\n",
       "      <td>12</td>\n",
       "      <td>8</td>\n",
       "      <td>0.000006</td>\n",
       "    </tr>\n",
       "    <tr>\n",
       "      <th>87372</th>\n",
       "      <td>TTTTTTTA</td>\n",
       "      <td>4</td>\n",
       "      <td>8</td>\n",
       "      <td>0.000002</td>\n",
       "    </tr>\n",
       "    <tr>\n",
       "      <th>87373</th>\n",
       "      <td>TTTTTTTC</td>\n",
       "      <td>5</td>\n",
       "      <td>8</td>\n",
       "      <td>0.000002</td>\n",
       "    </tr>\n",
       "    <tr>\n",
       "      <th>87374</th>\n",
       "      <td>TTTTTTTG</td>\n",
       "      <td>7</td>\n",
       "      <td>8</td>\n",
       "      <td>0.000003</td>\n",
       "    </tr>\n",
       "    <tr>\n",
       "      <th>87375</th>\n",
       "      <td>TTTTTTTT</td>\n",
       "      <td>0</td>\n",
       "      <td>8</td>\n",
       "      <td>0.000000</td>\n",
       "    </tr>\n",
       "  </tbody>\n",
       "</table>\n",
       "<p>87376 rows × 4 columns</p>\n",
       "</div>"
      ],
      "text/plain": [
       "           kmer   count  length      freq\n",
       "0            AA   95782       2  0.044358\n",
       "1            AC  105375       2  0.048800\n",
       "2            AG  106131       2  0.049151\n",
       "3            AT  100621       2  0.046599\n",
       "4            CA  122154       2  0.056571\n",
       "...         ...     ...     ...       ...\n",
       "87371  TTTTTTGT      12       8  0.000006\n",
       "87372  TTTTTTTA       4       8  0.000002\n",
       "87373  TTTTTTTC       5       8  0.000002\n",
       "87374  TTTTTTTG       7       8  0.000003\n",
       "87375  TTTTTTTT       0       8  0.000000\n",
       "\n",
       "[87376 rows x 4 columns]"
      ]
     },
     "execution_count": 7,
     "metadata": {},
     "output_type": "execute_result"
    }
   ],
   "source": [
    "get_kmer_frequencies_csvs(filename, gen_len)"
   ]
  },
  {
   "cell_type": "code",
   "execution_count": null,
   "id": "d42d9107",
   "metadata": {
    "id": "d42d9107"
   },
   "outputs": [],
   "source": [
    "df_grp = []\n",
    "for i in (range(2, 9)):\n",
    "    grp = km_grouped.get_group(i).copy()\n",
    "    grp['freq'] = grp['count'] / (gen_len - i + 1)\n",
    "    print(f\"Frequency of kmers of lenth {i}: {grp['freq'].sum()}\")\n",
    "    df_grp.append(grp)\n",
    "df_final = pd.concat(df_grp)"
   ]
  },
  {
   "cell_type": "code",
   "execution_count": null,
   "id": "e016869d",
   "metadata": {
    "id": "e016869d"
   },
   "outputs": [],
   "source": [
    "df_final"
   ]
  },
  {
   "cell_type": "code",
   "execution_count": null,
   "id": "c36bf418",
   "metadata": {
    "id": "c36bf418"
   },
   "outputs": [],
   "source": [
    "km_data = pd.read_csv(filename, names=['kmer', 'count'])\n",
    "km_data['length'] = km_data['kmer'].str.len()\n",
    "km_grouped = km_data_count.groupby('length')"
   ]
  },
  {
   "cell_type": "code",
   "execution_count": null,
   "id": "0f15ce45",
   "metadata": {
    "id": "0f15ce45"
   },
   "outputs": [],
   "source": [
    "def get_kmer_stats_genome(filename, name, gen_len):\n",
    "    name = filename.split('/')[2]\n",
    "    km_data = pd.read_csv(filename, names=['kmer', 'count'])\n",
    "    km_data['length'] = km_data['kmer'].str.len()\n",
    "    km_data_count = km_data.loc[km_data['count'] != 0]\n",
    "    km_total = km_data_count.groupby('length')['kmer'].count()\n",
    "    kmer_cnt_by_k = pd.DataFrame(km_total).reset_index().rename(columns={'length': 'k', 'kmer': 'num'})\n",
    "    k_list = kmer_cnt_by_k['k'].to_list()\n",
    "    ks = f'{k_list[0]}-{k_list[-1]}'\n",
    "    num_kmer_found = kmer_cnt_by_k['num'].to_list()\n",
    "    gen_len = genome_len['len'].loc[genome_len['name'] == name].values[0]\n",
    "    positions = [(gen_len - x + 1) for x in k_list]\n",
    "    all_kmers = [(4**x) for  x in k_list]\n",
    "    print(f'Summary statistics of kmer counts in the genus {name}')\n",
    "    print(f'The kmer length testeds {ks}')\n",
    "    print(f'Genome length {gen_len}\\n')\n",
    "    print('k\\tObs\\t4^k\\tN (kpb)\\tNF\\tRepeated')\n",
    "    for i, k in enumerate(k_list):\n",
    "        obs = num_kmer_found[i]\n",
    "        pos = 4**k\n",
    "        n = (positions[i]-k) + 1 \n",
    "        m = all_kmers[i] - num_kmer_found[i]\n",
    "        r = positions[i] - num_kmer_found[i]\n",
    "        print(f'{k}\\t{obs}\\t{pos}\\t{n}\\t{m}\\t{r}')"
   ]
  },
  {
   "cell_type": "code",
   "execution_count": null,
   "id": "01976259",
   "metadata": {
    "id": "01976259",
    "outputId": "0b454192-f2c3-4cce-85bd-7634d4728a4f"
   },
   "outputs": [
    {
     "name": "stdout",
     "output_type": "stream",
     "text": [
      "Summary statistics of kmer counts in the genus Actinotignum\n",
      "The kmer length testeds 2-8\n",
      "Genome length 2159306\n",
      "\n",
      "k\tObs\t4^k\tN (kpb)\tNF\tRepeated\n",
      "2\t16\t16\t2159304\t0\t2159289\n",
      "3\t64\t64\t2159302\t0\t2159240\n",
      "4\t256\t256\t2159300\t0\t2159047\n",
      "5\t1024\t1024\t2159298\t0\t2158278\n",
      "6\t4096\t4096\t2159296\t0\t2155205\n",
      "7\t16384\t16384\t2159294\t0\t2142916\n",
      "8\t65291\t65536\t2159292\t245\t2094008\n"
     ]
    }
   ],
   "source": [
    "get_kmer_stats_genome(filename, 'Actinotignum', gen_len)"
   ]
  },
  {
   "cell_type": "code",
   "execution_count": null,
   "id": "65c692af",
   "metadata": {
    "id": "65c692af"
   },
   "outputs": [],
   "source": [
    "# Summary statistics of kmer counts in the genus Actinotignum\n",
    "# The kmer length testeds 2-8\n",
    "# Genome length 2159306\n",
    "\n",
    "# k\tObs\t4^k\tN (kpb)\tNF\tRepeated\n",
    "# 2\t16\t16\t2159304\t0\t2159289\n",
    "# 3\t64\t64\t2159302\t0\t2159240\n",
    "# 4\t256\t256\t2159300\t0\t2159047\n",
    "# 5\t1024\t1024\t2159298\t0\t2158278\n",
    "# 6\t4096\t4096\t2159296\t0\t2155205\n",
    "# 7\t16384\t16384\t2159294\t0\t2142916\n",
    "# 8\t65291\t65536\t2159292\t245\t2094008"
   ]
  },
  {
   "cell_type": "code",
   "execution_count": null,
   "id": "578b7bc7",
   "metadata": {
    "id": "578b7bc7"
   },
   "outputs": [],
   "source": [
    "def prob_kmer_qual_dist(k):\n",
    "    return 1/4**k"
   ]
  },
  {
   "cell_type": "code",
   "execution_count": null,
   "id": "90da27d8",
   "metadata": {
    "id": "90da27d8",
    "outputId": "5c3a3846-0a45-49d8-fcce-a16fc58a427e"
   },
   "outputs": [
    {
     "data": {
      "text/plain": [
       "0.015625"
      ]
     },
     "execution_count": 14,
     "metadata": {},
     "output_type": "execute_result"
    }
   ],
   "source": [
    "prob_kmer_qual_dist(3)"
   ]
  },
  {
   "cell_type": "markdown",
   "id": "42ff36dc",
   "metadata": {
    "id": "42ff36dc"
   },
   "source": [
    "### GC content"
   ]
  },
  {
   "cell_type": "code",
   "execution_count": null,
   "id": "85dbbb23",
   "metadata": {
    "colab": {
     "base_uri": "https://localhost:8080/",
     "height": 217
    },
    "executionInfo": {
     "elapsed": 21,
     "status": "error",
     "timestamp": 1668627752806,
     "user": {
      "displayName": "Paulo Sergio Schlogl",
      "userId": "13176398588976330350"
     },
     "user_tz": 180
    },
    "id": "85dbbb23",
    "outputId": "2abf0045-3ddd-4dd9-d409-674e6fd1267f"
   },
   "outputs": [
    {
     "ename": "NameError",
     "evalue": "ignored",
     "output_type": "error",
     "traceback": [
      "\u001b[0;31m---------------------------------------------------------------------------\u001b[0m",
      "\u001b[0;31mNameError\u001b[0m                                 Traceback (most recent call last)",
      "\u001b[0;32m<ipython-input-1-3be3e75c8df6>\u001b[0m in \u001b[0;36m<module>\u001b[0;34m\u001b[0m\n\u001b[1;32m      1\u001b[0m \u001b[0mffasta\u001b[0m \u001b[0;34m=\u001b[0m \u001b[0;34m'Data/Genomes_splitted/Thermodesulfatator/Chromosomes/GCF_000217795.1_chr.fna.gz'\u001b[0m\u001b[0;34m\u001b[0m\u001b[0;34m\u001b[0m\u001b[0m\n\u001b[1;32m      2\u001b[0m \u001b[0;34m\u001b[0m\u001b[0m\n\u001b[0;32m----> 3\u001b[0;31m \u001b[0;32mfor\u001b[0m \u001b[0mId\u001b[0m\u001b[0;34m,\u001b[0m \u001b[0msequence\u001b[0m \u001b[0;32min\u001b[0m \u001b[0mparse_fasta\u001b[0m\u001b[0;34m(\u001b[0m\u001b[0mffasta\u001b[0m\u001b[0;34m)\u001b[0m\u001b[0;34m:\u001b[0m\u001b[0;34m\u001b[0m\u001b[0;34m\u001b[0m\u001b[0m\n\u001b[0m\u001b[1;32m      4\u001b[0m     \u001b[0ms\u001b[0m \u001b[0;34m=\u001b[0m \u001b[0msequence\u001b[0m\u001b[0;34m\u001b[0m\u001b[0;34m\u001b[0m\u001b[0m\n",
      "\u001b[0;31mNameError\u001b[0m: name 'parse_fasta' is not defined"
     ]
    }
   ],
   "source": [
    "ffasta = 'Data/Genomes_splitted/Thermodesulfatator/Chromosomes/GCF_000217795.1_chr.fna.gz'\n",
    "\n",
    "for Id, sequence in parse_fasta(ffasta):\n",
    "    s = sequence"
   ]
  },
  {
   "cell_type": "code",
   "execution_count": null,
   "id": "841b84ef",
   "metadata": {
    "id": "841b84ef"
   },
   "outputs": [],
   "source": [
    "def get_sequence_chunks(sequence, window, step, as_overlap=False):\n",
    "    \"\"\"\n",
    "    GC Content in a DNA/RNA sub-sequence length k. \n",
    "    In overlap windows of length k, other wise non overlapping.\n",
    "\n",
    "    Inputs:\n",
    "        sequence - a string representing a DNA sequence.\n",
    "        as_overlap - boolean that represents if overlap is needed.\n",
    "        k - a integer representing the lengths of overlapping bases.\n",
    "    Outputs:\n",
    "        subseq - a string representing a slice of the sequence with or without\n",
    "                 overlapping characters.\n",
    "    \"\"\"\n",
    "    sequence = sequence.upper()\n",
    "\n",
    "    if as_overlap:\n",
    "        # overlap sequence length\n",
    "        step = 1\n",
    "\n",
    "    # iterates to the overlap region\n",
    "    for i in range(0, len(sequence) - window + 1, step):\n",
    "        # creates the substring\n",
    "        subseq = sequence[i:i + window]\n",
    "        start = i\n",
    "        end = i + window\n",
    "        yield subseq, start, end"
   ]
  },
  {
   "cell_type": "code",
   "execution_count": null,
   "id": "77fdd3df",
   "metadata": {
    "id": "77fdd3df"
   },
   "outputs": [],
   "source": [
    "list(get_sequence_chunks(s, 2000, 500, as_overlap=True))"
   ]
  },
  {
   "cell_type": "code",
   "execution_count": null,
   "id": "df55caa7",
   "metadata": {
    "id": "df55caa7"
   },
   "outputs": [],
   "source": []
  },
  {
   "cell_type": "code",
   "execution_count": null,
   "id": "215d4e19",
   "metadata": {
    "id": "215d4e19"
   },
   "outputs": [],
   "source": [
    "def gc_content(seq: str, percent: bool = True) -> float:\n",
    "    \"\"\"\n",
    "    Calculate G+C content, return percentage (as float between 0 and 100).\n",
    "    Copes mixed case sequences, and with the ambiguous nucleotide S (G or C)\n",
    "    when counting the G and C content.  The percentage is calculated against\n",
    "    the full length.\n",
    "\n",
    "    Inputs:\n",
    "        sequence - a string representing a sequence (DNA/RNA/Protein)\n",
    "\n",
    "    Outputs:\n",
    "        gc - a float number or a percent value representing the gc content of the sequence.\n",
    "\n",
    "    \"\"\"\n",
    "    seq_len = len(seq)\n",
    "    gc = sum(1 for x in seq if x.upper() in {\"G\", \"C\", \"S\"})\n",
    "    if seq_len == 0:\n",
    "        return 0\n",
    "    gc /= seq_len\n",
    "    if percent:\n",
    "        return gc * 100\n",
    "    return gc"
   ]
  },
  {
   "cell_type": "code",
   "execution_count": null,
   "id": "4c5731f1",
   "metadata": {
    "id": "4c5731f1"
   },
   "outputs": [],
   "source": [
    "%timeit gc_content('CATGGGCATCGGCCATACGCC')"
   ]
  },
  {
   "cell_type": "code",
   "execution_count": null,
   "id": "7f131c68",
   "metadata": {
    "id": "7f131c68"
   },
   "outputs": [],
   "source": [
    "gc_total = gc_content('CATGGGCATCGGCCATACGCC')"
   ]
  },
  {
   "cell_type": "code",
   "execution_count": null,
   "id": "1605fbe3",
   "metadata": {
    "id": "1605fbe3"
   },
   "outputs": [],
   "source": [
    "def get_sequence_skew(sequence):\n",
    "    \"\"\"Returns the difference between the total number of \n",
    "    occurrences of G and the total number of occurrences of C in \n",
    "    the first i elements of the sequence. \"\"\"\n",
    "    skew = [0]\n",
    "    for idx, element in enumerate(sequence):\n",
    "        if sequence[idx] == 'G':\n",
    "            skew.append(skew[idx] + 1)\n",
    "        elif sequence[idx] == 'C':\n",
    "            skew.append(skew[idx] -1)\n",
    "        else:\n",
    "            skew.append(skew[idx])\n",
    "    return skew"
   ]
  },
  {
   "cell_type": "code",
   "execution_count": null,
   "id": "90196986",
   "metadata": {
    "id": "90196986"
   },
   "outputs": [],
   "source": [
    "seq_skw = get_sequence_skew('CATGGGCATCGGCCATACGCC')"
   ]
  },
  {
   "cell_type": "code",
   "execution_count": null,
   "id": "ad6f2da0",
   "metadata": {
    "id": "ad6f2da0"
   },
   "outputs": [],
   "source": [
    "pd.DataFrame(seq_skw, columns=['seq1']).plot()"
   ]
  },
  {
   "cell_type": "code",
   "execution_count": null,
   "id": "913c847d",
   "metadata": {
    "id": "913c847d"
   },
   "outputs": [],
   "source": [
    "import glob"
   ]
  },
  {
   "cell_type": "code",
   "execution_count": null,
   "id": "b5f0b2f5",
   "metadata": {
    "id": "b5f0b2f5"
   },
   "outputs": [],
   "source": [
    "glob.glob(f'Data/Genomes_splitted/*/Chromosomes/*_chr.fna.gz')"
   ]
  },
  {
   "cell_type": "code",
   "execution_count": null,
   "id": "521d89e8",
   "metadata": {
    "id": "521d89e8"
   },
   "outputs": [],
   "source": [
    "seqs = ['CATGGGCATCGGCCATACGCC', 'CGTGGGCATCGGCCACACGCC', 'CATAGACATCGGCCATACGCCAATGC']\n",
    "\n",
    "dfs = []\n",
    "for idx, seq in enumerate(seqs):\n",
    "    gc = get_sequence_skew(seq)\n",
    "    dfs.append(pd.DataFrame(gc))\n",
    "    \n",
    "pd.concat(dfs   , axis=1, ignore_index=True).plot()"
   ]
  },
  {
   "cell_type": "code",
   "execution_count": null,
   "id": "c90146b6",
   "metadata": {
    "id": "c90146b6"
   },
   "outputs": [],
   "source": [
    "plt.plot(get_sequence_skew('CATGGGCATCGGCCATACGCC'))"
   ]
  },
  {
   "cell_type": "code",
   "execution_count": null,
   "id": "727ea3e2",
   "metadata": {
    "id": "727ea3e2"
   },
   "outputs": [],
   "source": [
    "plt.hist(get_sequence_skew('CATGGGCATCGGCCATACGCC'));"
   ]
  },
  {
   "cell_type": "code",
   "execution_count": null,
   "id": "872c4cc2",
   "metadata": {
    "id": "872c4cc2"
   },
   "outputs": [],
   "source": [
    "def get_gc_content_slide_window(sequence: str, window: int, step: int) -> DefaultDict[str, float]:\n",
    "    \"\"\"\n",
    "    Calculate the GC (G+C) content along a sequence. Returns a dictionary-like\n",
    "    object mapping the sequence window to the gc value (floats).\n",
    "    Returns 0 for windows without any G/C by handling zero division errors, and\n",
    "    does NOT look at any ambiguous nucleotides.\n",
    "\n",
    "    Inputs:\n",
    "        sequence - a string representing a sequence (DNA/RNA/Protein)\n",
    "        window_size - a integer representing the length of sequence to be analyzed\n",
    "                   at each step in the full sequence.\n",
    "        step - a integer representing the length of overlapping sequence allowed.\n",
    "\n",
    "    Outputs:\n",
    "        gc- a dictionary-like object mapping the window size sequence to it gc values\n",
    "            as floating numbers\n",
    "    \"\"\"\n",
    "    gc = defaultdict(float)\n",
    "    for s, i, e in get_sequence_chunks(sequence, window, step, as_overlap=False):\n",
    "        key = f'{i}-{e}'\n",
    "        gc[key] = gc_content(s)\n",
    "    return gc"
   ]
  },
  {
   "cell_type": "code",
   "execution_count": null,
   "id": "a0d8b353",
   "metadata": {
    "id": "a0d8b353"
   },
   "outputs": [],
   "source": [
    "gc_slide = get_gc_content_slide_window('CATGGGCATCGGCCATACGCC', 10, 10)"
   ]
  },
  {
   "cell_type": "code",
   "execution_count": null,
   "id": "27edbad0",
   "metadata": {
    "id": "27edbad0"
   },
   "outputs": [],
   "source": [
    "gc_slide"
   ]
  },
  {
   "cell_type": "code",
   "execution_count": null,
   "id": "0694c8cd",
   "metadata": {
    "id": "0694c8cd"
   },
   "outputs": [],
   "source": [
    "df_gc_content_window = pd.DataFrame(gc_slide.items(), columns=['window', 'gc(%)'])"
   ]
  },
  {
   "cell_type": "code",
   "execution_count": null,
   "id": "fde95e1b",
   "metadata": {
    "id": "fde95e1b"
   },
   "outputs": [],
   "source": [
    "df_gc_content_window"
   ]
  },
  {
   "cell_type": "code",
   "execution_count": null,
   "id": "3223e0b4",
   "metadata": {
    "id": "3223e0b4"
   },
   "outputs": [],
   "source": [
    "# d_i = {\n",
    "#         idx: gc_chunk - gc_total\n",
    "#         for idx, data in gc_slide.items()\n",
    "#         for chunk, gc_chunk in data.items()\n",
    "#     }\n",
    "# d_i"
   ]
  },
  {
   "cell_type": "code",
   "execution_count": null,
   "id": "4c7a14cb",
   "metadata": {
    "id": "4c7a14cb"
   },
   "outputs": [],
   "source": [
    "def difference_gc(total_gc: float, gc_dict: Dict[str, float]) -> Dict[str, float]:\n",
    "    \"\"\"\n",
    "    Calculates the difference between the mean GC content of window i, and the\n",
    "    mean chromosomal GC content, as Di = GCi − GC\n",
    "    \"\"\"\n",
    "    # iterate through all keys, gc calculated values for the\n",
    "    # genome chunk\n",
    "    # get the difference between the chromosomal mean and the chunks\n",
    "    # add the difference to the appropriate chunk\n",
    "    d_i = {\n",
    "        chunk: gc_cnt - total_gc\n",
    "        for chunk, gc_cnt in gc_dict.items()\n",
    "    }\n",
    "    return d_i"
   ]
  },
  {
   "cell_type": "code",
   "execution_count": null,
   "id": "942936e2",
   "metadata": {
    "id": "942936e2"
   },
   "outputs": [],
   "source": [
    "dif_gc = difference_gc(gc_total, gc_slide)"
   ]
  },
  {
   "cell_type": "code",
   "execution_count": null,
   "id": "dd5a56ae",
   "metadata": {
    "id": "dd5a56ae"
   },
   "outputs": [],
   "source": [
    "dif_gc"
   ]
  },
  {
   "cell_type": "code",
   "execution_count": null,
   "id": "9f319b1e",
   "metadata": {
    "id": "9f319b1e"
   },
   "outputs": [],
   "source": [
    "df_gc_window = pd.DataFrame(dif_gc.items(), columns=['window', 'diff'])"
   ]
  },
  {
   "cell_type": "code",
   "execution_count": null,
   "id": "5d9d593f",
   "metadata": {
    "id": "5d9d593f"
   },
   "outputs": [],
   "source": [
    "df_gc_window"
   ]
  },
  {
   "cell_type": "code",
   "execution_count": null,
   "id": "63ea15de",
   "metadata": {
    "id": "63ea15de"
   },
   "outputs": [],
   "source": [
    "pd.merge(df_gc_content_window, df_gc_window, how= 'left', on='window')"
   ]
  },
  {
   "cell_type": "code",
   "execution_count": null,
   "id": "9c660245",
   "metadata": {
    "id": "9c660245"
   },
   "outputs": [],
   "source": [
    "def get_chromosomal_gc_variation(difference_dic: Dict[str, float]) -> float:\n",
    "    \"\"\"\n",
    "    Calculates the chromosomal GC variation defined as the log-transformed average\n",
    "    of the absolute value of the difference between the mean GC content of each\n",
    "    non-overlapping sliding window i and mean chromosomal GC content.\n",
    "    chromosomal_gc_variantion = log(1/N*sum(|Di|), where N is the maximum number of\n",
    "    non-overlapping window size in bp in a sliding windows.\n",
    "    \"\"\"\n",
    "    # get the number of chunks\n",
    "    n = len(difference_dic)\n",
    "    arr = np.fromiter(\n",
    "        difference_dic.values(),\n",
    "        dtype=np.float32,\n",
    "        count=len(difference_dic),\n",
    "    )\n",
    "    var = np.log(np.sum(np.abs(arr)) / n)\n",
    "    return var"
   ]
  },
  {
   "cell_type": "code",
   "execution_count": null,
   "id": "f18b536f",
   "metadata": {
    "id": "f18b536f"
   },
   "outputs": [],
   "source": [
    "gc_var = get_chromosomal_gc_variation(dif_gc)"
   ]
  },
  {
   "cell_type": "code",
   "execution_count": null,
   "id": "7186bda4",
   "metadata": {
    "id": "7186bda4"
   },
   "outputs": [],
   "source": [
    "gc_var"
   ]
  },
  {
   "cell_type": "code",
   "execution_count": null,
   "id": "4e4b30b8",
   "metadata": {
    "id": "4e4b30b8"
   },
   "outputs": [],
   "source": [
    "var_series = pd.Series(gc_var, index=['species1'])\n",
    "gc_series = pd.Series(gc_total, index=['species1'])"
   ]
  },
  {
   "cell_type": "code",
   "execution_count": null,
   "id": "d23b06c0",
   "metadata": {
    "id": "d23b06c0"
   },
   "outputs": [],
   "source": [
    "name = 'spec1'"
   ]
  },
  {
   "cell_type": "code",
   "execution_count": null,
   "id": "b38380d8",
   "metadata": {
    "id": "b38380d8"
   },
   "outputs": [],
   "source": [
    "pd.DataFrame([var_series, \n",
    "              gc_series], \n",
    "             columns=['species1']).T.rename(columns={0: 'gc_var', \n",
    "                                                     1: 'gc_total'}).reset_index().rename(columns={'index': 'name'})"
   ]
  },
  {
   "cell_type": "code",
   "execution_count": null,
   "id": "e59bc6d8",
   "metadata": {
    "id": "e59bc6d8"
   },
   "outputs": [],
   "source": [
    "def get_minimum_skew(sequence):\n",
    "    \"\"\"Returns a position in a sequence minimizing the skew.\"\"\"\n",
    "    min_skew = []\n",
    "    skew = get_sequence_skew(sequence)\n",
    "    m_skew = min(skew)\n",
    "    for idx in range(len(sequence) + 1):\n",
    "        if skew[idx] == m_skew:\n",
    "            min_skew.append(idx)\n",
    "    return min_skew"
   ]
  },
  {
   "cell_type": "code",
   "execution_count": null,
   "id": "28329e90",
   "metadata": {
    "id": "28329e90"
   },
   "outputs": [],
   "source": [
    "get_minimum_skew('CATGGGCATCGGCCATACGCC')"
   ]
  },
  {
   "cell_type": "code",
   "execution_count": null,
   "id": "45436d94",
   "metadata": {
    "id": "45436d94"
   },
   "outputs": [],
   "source": []
  },
  {
   "cell_type": "code",
   "execution_count": null,
   "id": "053a68b1",
   "metadata": {
    "id": "053a68b1"
   },
   "outputs": [],
   "source": [
    "gc = re.findall('[gc]', 'CATGGGCATCGGCCATACGCC', re.IGNORECASE)\n",
    "len(gc), len('CATGGGCATCGGCCATACGCC')"
   ]
  },
  {
   "cell_type": "code",
   "execution_count": null,
   "id": "d1473a8f",
   "metadata": {
    "id": "d1473a8f"
   },
   "outputs": [],
   "source": [
    "gc_content('CATGGGCATCGGCCATACGCC', False)"
   ]
  },
  {
   "cell_type": "code",
   "execution_count": null,
   "id": "9fb16d7d",
   "metadata": {
    "id": "9fb16d7d"
   },
   "outputs": [],
   "source": [
    "def gc(sequence):\n",
    "    \"\"\" Return the GC content, record ID for a sequence \"\"\"\n",
    "    return (len(re.findall('[gc]', sequence, re.IGNORECASE)) / len(sequence)) * 100\n",
    "#     return (gc / len_seq) * 100"
   ]
  },
  {
   "cell_type": "code",
   "execution_count": null,
   "id": "75dd5d95",
   "metadata": {
    "id": "75dd5d95"
   },
   "outputs": [],
   "source": [
    "%timeit gc('CATGGGCATCGGCCATACGCC')"
   ]
  },
  {
   "cell_type": "code",
   "execution_count": null,
   "id": "967da563",
   "metadata": {
    "id": "967da563"
   },
   "outputs": [],
   "source": [
    "def test_gc():\n",
    "    \"\"\" Test gc \"\"\"\n",
    "\n",
    "    assert gc('') == 0.\n",
    "    assert gc('C') == 100.\n",
    "    assert gc('G') == 100.\n",
    "    assert gc('CGCCG') == 100.\n",
    "    assert gc('ATTAA') == 0.\n",
    "    assert gc('ACGT') == 50."
   ]
  },
  {
   "cell_type": "code",
   "execution_count": null,
   "id": "c2d98af1",
   "metadata": {
    "id": "c2d98af1"
   },
   "outputs": [],
   "source": [
    "gc('ATTAA')"
   ]
  },
  {
   "cell_type": "code",
   "execution_count": null,
   "id": "17006cff",
   "metadata": {
    "id": "17006cff"
   },
   "outputs": [],
   "source": [
    "sub_seq = 'GGC'\n",
    "seq = 'CATGGGCATCGGCCATACGCC'"
   ]
  },
  {
   "cell_type": "code",
   "execution_count": null,
   "id": "1d59e4d6",
   "metadata": {
    "id": "1d59e4d6"
   },
   "outputs": [],
   "source": [
    "print(*[m.start() + 1 for m in re.finditer(f'(?=({sub_seq}))', seq)])"
   ]
  },
  {
   "cell_type": "code",
   "execution_count": null,
   "id": "9713425f",
   "metadata": {
    "id": "9713425f"
   },
   "outputs": [],
   "source": [
    "def get_sequence_chunks(sequence, window, as_overlap=False):\n",
    "    \"\"\"GC Content in a DNA/RNA sub-sequence length k. In\n",
    "    overlapp windows of lenght k.\n",
    "    \n",
    "    Inputs:\n",
    "    \n",
    "        sequence - a string representing a DNA sequence.    \n",
    "        as_overlap - boolean that represents if overlap is needed.\n",
    "        k - a integer reppresenting the lengths of overlappig bases.\n",
    "            Default is 20.\n",
    "    \n",
    "    Outputs:\n",
    "    \n",
    "        gc_content - an array-like object with \n",
    "    \n",
    "    \n",
    "    \"\"\"\n",
    "    # make sequence upper case and getting the length of it\n",
    "    sequence, seq_len = sequence.upper(), len(sequence)\n",
    "    # non overlap sequence length\n",
    "    non_overlap = range(0, seq_len - window + 1, window)\n",
    "    # overlap sequence length\n",
    "    overlap = range(0, seq_len - window + 1)\n",
    "    # overlap is needed\n",
    "    if as_overlap:\n",
    "        # iterates to the overlap region\n",
    "        for i in overlap:\n",
    "            # creates the substring \n",
    "            subseq = sequence[i:i + window]\n",
    "            yield subseq\n",
    "    # if non overlap is choosed\n",
    "    else:\n",
    "        # iterates to the mon overlap region\n",
    "        for j in non_overlap:\n",
    "            # creates the substring to count the gc_content\n",
    "            subseq = sequence[j:j + window]\n",
    "            yield subseq"
   ]
  },
  {
   "cell_type": "code",
   "execution_count": null,
   "id": "7bf6e81c",
   "metadata": {
    "id": "7bf6e81c"
   },
   "outputs": [],
   "source": [
    "list(get_sequence_chunks('ACGTGGCCATACGT', 5, as_overlap=False))"
   ]
  },
  {
   "cell_type": "code",
   "execution_count": null,
   "id": "1bab362b",
   "metadata": {
    "id": "1bab362b"
   },
   "outputs": [],
   "source": [
    "# def GC(seq, percent=True):\n",
    "#     \"\"\"\n",
    "#     Calculate G+C content, return percentage (as float between 0 and 100).\n",
    "#     Copes mixed case sequences, and with the ambiguous nucleotide S (G or C)\n",
    "#     when counting the G and C content.  The percentage is calculated against\n",
    "#     the full length. It looks for ambigous bases as S (C or G) or s (c or g).\n",
    "    \n",
    "#     Inputs:\n",
    "#         sequence - a string representing a sequence (DNA/RNA/Protein)\n",
    "    \n",
    "#     Outputs:\n",
    "#         gc - a float number or a percent value representing the gc content of the sequence.     \n",
    "    \n",
    "#     \"\"\"\n",
    "#     gc = sum(seq.count(x) for x in [\"G\", \"C\", \"g\", \"c\", \"S\", \"s\"])\n",
    "#     if percent:\n",
    "#         try:\n",
    "#             return gc * 100.0 / len(seq)\n",
    "#         except ZeroDivisionError:\n",
    "#             return 0.0 \n",
    "#     else:\n",
    "#         return gc / len(seq)"
   ]
  },
  {
   "cell_type": "code",
   "execution_count": null,
   "id": "f6dc08fd",
   "metadata": {
    "id": "f6dc08fd"
   },
   "outputs": [],
   "source": [
    "def gc_content_sequence_window(sequence, as_overlap=False, k=20):\n",
    "    \"\"\"GC Content in a DNA/RNA sub-sequence length k. In\n",
    "    overlapp windows of lenght k.\n",
    "    \n",
    "    Inputs:\n",
    "    \n",
    "        sequence - a string representing a DNA sequence.    \n",
    "        as_overlap - boolean that represents if overlap is needed.\n",
    "        k - a integer reppresenting the lengths of overlappig bases.\n",
    "            Default is 20.\n",
    "    \n",
    "    Outputs:\n",
    "    \n",
    "        gc_content - an array-like object with \n",
    "    \n",
    "    \n",
    "    \"\"\"\n",
    "    # make sequence upper case and getting the length of it\n",
    "    sequence = sequence.upper()\n",
    "    seq_len = len(sequence)\n",
    "    # the array-like object to collect the data\n",
    "    gc = []\n",
    "    # non overlap sequence length\n",
    "    non_overlap = range(0, len(sequence) - k + 1, k)\n",
    "    # overlap sequence length\n",
    "    overlap = range(0, seq_len - k + 1)\n",
    "    # overlap is needed\n",
    "    if as_overlap:\n",
    "        # iterates to the overlap region\n",
    "        for i in overlap:\n",
    "            # creates the substring to count the gc_content\n",
    "            subseq = sequence[i:i + k]\n",
    "            # collect the data in the array container\n",
    "            gc.append((i, gc_content(subseq, True)))\n",
    "    # if non overlap is choosed\n",
    "    else:\n",
    "        # iterates to the mon overlap region\n",
    "        for j in non_overlap:\n",
    "            # creates the substring to count the gc_content\n",
    "            subseq = sequence[j:j + k]\n",
    "            # collect the data in the array container\n",
    "            gc.append((j, gc_content(subseq, True)))\n",
    "    return gc"
   ]
  },
  {
   "cell_type": "code",
   "execution_count": null,
   "id": "7dbda9c3",
   "metadata": {
    "id": "7dbda9c3"
   },
   "outputs": [],
   "source": [
    "gc_content_sequence_window('ACGTGGCCATACGT', as_overlap=False, k=5)"
   ]
  },
  {
   "cell_type": "code",
   "execution_count": null,
   "id": "17af89e7",
   "metadata": {
    "id": "17af89e7"
   },
   "outputs": [],
   "source": [
    "def gc_var(sequence, as_overlap=False, k=20):\n",
    "    \"\"\"\n",
    "    Calculates the gc content variance in a sequence according to a \n",
    "    window of length k.\n",
    "    \n",
    "    Inputs:\n",
    "        sequence - a string representing a DNA sequence.\n",
    "        k - integer representing the length of the search window.\n",
    "            default is 20.\n",
    "    \n",
    "    Outputs:\n",
    "    \n",
    "        log of the gc variantion in the sequence in a window space of\n",
    "        length k.\n",
    "    \n",
    "    \"\"\"\n",
    "    # calculates the percent of gc content\n",
    "    gc = gc_content(sequence, True)\n",
    "    # get the gc content in the window space as an array\n",
    "    gc_i = np.array(gc_content_sequence_window(sequence, as_overlap, k=k))\n",
    "    # get the len of the gc content in the window space\n",
    "    len_gc_i = np.shape(gc_i)[0]\n",
    "    # check the difference of each point \n",
    "    dif = gc_i - gc\n",
    "    return np.log((1 / len_gc_i) * sum(abs(dif)))"
   ]
  },
  {
   "cell_type": "code",
   "execution_count": null,
   "id": "73ce9ccb",
   "metadata": {
    "id": "73ce9ccb"
   },
   "outputs": [],
   "source": [
    "gc_var('ACGTGGCCATACGT', as_overlap=False, k=5)"
   ]
  },
  {
   "cell_type": "code",
   "execution_count": null,
   "id": "77ddfec5",
   "metadata": {
    "id": "77ddfec5"
   },
   "outputs": [],
   "source": [
    "list(get_sequence_chunks2('ACGTGGCCATACGT', 5, 1, as_overlap=False))"
   ]
  },
  {
   "cell_type": "code",
   "execution_count": null,
   "id": "35ee3442",
   "metadata": {
    "id": "35ee3442"
   },
   "outputs": [],
   "source": []
  },
  {
   "cell_type": "code",
   "execution_count": null,
   "id": "e76c1fc0",
   "metadata": {
    "id": "e76c1fc0"
   },
   "outputs": [],
   "source": []
  },
  {
   "cell_type": "code",
   "execution_count": null,
   "id": "38ada413",
   "metadata": {
    "id": "38ada413"
   },
   "outputs": [],
   "source": []
  },
  {
   "cell_type": "code",
   "execution_count": null,
   "id": "2fdced7a",
   "metadata": {
    "id": "2fdced7a"
   },
   "outputs": [],
   "source": []
  }
 ],
 "metadata": {
  "colab": {
   "provenance": []
  },
  "kernelspec": {
   "display_name": "Python 3 (ipykernel)",
   "language": "python",
   "name": "python3"
  },
  "language_info": {
   "codemirror_mode": {
    "name": "ipython",
    "version": 3
   },
   "file_extension": ".py",
   "mimetype": "text/x-python",
   "name": "python",
   "nbconvert_exporter": "python",
   "pygments_lexer": "ipython3",
   "version": "3.11.5"
  }
 },
 "nbformat": 4,
 "nbformat_minor": 5
}
