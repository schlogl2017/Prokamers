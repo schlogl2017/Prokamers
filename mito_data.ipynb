{
 "cells": [
  {
   "cell_type": "code",
   "execution_count": 1,
   "id": "5fd0439f",
   "metadata": {},
   "outputs": [],
   "source": [
    "import pandas as pd"
   ]
  },
  {
   "cell_type": "code",
   "execution_count": 22,
   "id": "c7b5355a",
   "metadata": {},
   "outputs": [],
   "source": [
    "def list_contains(List1, List2): \n",
    "  \n",
    "    set1 = set(List1) \n",
    "    set2 = set(List2) \n",
    "    if set1.intersection(set2): \n",
    "        return True \n",
    "    else: \n",
    "        return False"
   ]
  },
  {
   "cell_type": "code",
   "execution_count": 12,
   "id": "4e3654cf",
   "metadata": {},
   "outputs": [],
   "source": [
    "with open('mito_list_last', 'r') as fh, open('mito_csv.csv', 'w') as fo:\n",
    "    fo.write('Id, species\\n')\n",
    "    for line in fh:\n",
    "        Id = line.strip().split(' ')[0][1:]\n",
    "        spc = line.strip().split(' ')[1] + ' ' + line.strip().split(' ')[2]\n",
    "        fo.write(Id + ',' + spc + '\\n')"
   ]
  },
  {
   "cell_type": "code",
   "execution_count": 31,
   "id": "6da376b7",
   "metadata": {},
   "outputs": [],
   "source": [
    "df = pd.read_csv('mito_csv.csv', sep=',', header=0, names=['Id', 'species'])"
   ]
  },
  {
   "cell_type": "code",
   "execution_count": 27,
   "id": "aba11934",
   "metadata": {},
   "outputs": [],
   "source": [
    "pd.read_csv?"
   ]
  },
  {
   "cell_type": "code",
   "execution_count": 32,
   "id": "826f8eb9",
   "metadata": {},
   "outputs": [
    {
     "data": {
      "text/html": [
       "<div>\n",
       "<style scoped>\n",
       "    .dataframe tbody tr th:only-of-type {\n",
       "        vertical-align: middle;\n",
       "    }\n",
       "\n",
       "    .dataframe tbody tr th {\n",
       "        vertical-align: top;\n",
       "    }\n",
       "\n",
       "    .dataframe thead th {\n",
       "        text-align: right;\n",
       "    }\n",
       "</style>\n",
       "<table border=\"1\" class=\"dataframe\">\n",
       "  <thead>\n",
       "    <tr style=\"text-align: right;\">\n",
       "      <th></th>\n",
       "      <th>Id</th>\n",
       "      <th>species</th>\n",
       "    </tr>\n",
       "  </thead>\n",
       "  <tbody>\n",
       "    <tr>\n",
       "      <th>0</th>\n",
       "      <td>NC_012975.1</td>\n",
       "      <td>Oryzias minutillus</td>\n",
       "    </tr>\n",
       "    <tr>\n",
       "      <th>1</th>\n",
       "      <td>NC_012976.1</td>\n",
       "      <td>Oryzias dancena</td>\n",
       "    </tr>\n",
       "    <tr>\n",
       "      <th>2</th>\n",
       "      <td>NC_012979.1</td>\n",
       "      <td>Oryzias luzonensis</td>\n",
       "    </tr>\n",
       "    <tr>\n",
       "      <th>3</th>\n",
       "      <td>NC_014671.1</td>\n",
       "      <td>Ammothea carolinensis</td>\n",
       "    </tr>\n",
       "    <tr>\n",
       "      <th>4</th>\n",
       "      <td>NC_012981.1</td>\n",
       "      <td>Oryzias javanicus</td>\n",
       "    </tr>\n",
       "    <tr>\n",
       "      <th>...</th>\n",
       "      <td>...</td>\n",
       "      <td>...</td>\n",
       "    </tr>\n",
       "    <tr>\n",
       "      <th>7823</th>\n",
       "      <td>NC_052714.1</td>\n",
       "      <td>Gelidiella flabella</td>\n",
       "    </tr>\n",
       "    <tr>\n",
       "      <th>7824</th>\n",
       "      <td>NW_024066106.1</td>\n",
       "      <td>Brettanomyces nanus</td>\n",
       "    </tr>\n",
       "    <tr>\n",
       "      <th>7825</th>\n",
       "      <td>NW_024066174.1</td>\n",
       "      <td>Ascochyta rabiei</td>\n",
       "    </tr>\n",
       "    <tr>\n",
       "      <th>7826</th>\n",
       "      <td>NC_008074.1</td>\n",
       "      <td>Schistosoma haematobium</td>\n",
       "    </tr>\n",
       "    <tr>\n",
       "      <th>7827</th>\n",
       "      <td>NC_049568.1</td>\n",
       "      <td>Bubalus bubalis</td>\n",
       "    </tr>\n",
       "  </tbody>\n",
       "</table>\n",
       "<p>7828 rows × 2 columns</p>\n",
       "</div>"
      ],
      "text/plain": [
       "                  Id                  species\n",
       "0        NC_012975.1       Oryzias minutillus\n",
       "1        NC_012976.1          Oryzias dancena\n",
       "2        NC_012979.1       Oryzias luzonensis\n",
       "3        NC_014671.1    Ammothea carolinensis\n",
       "4        NC_012981.1        Oryzias javanicus\n",
       "...              ...                      ...\n",
       "7823     NC_052714.1      Gelidiella flabella\n",
       "7824  NW_024066106.1      Brettanomyces nanus\n",
       "7825  NW_024066174.1         Ascochyta rabiei\n",
       "7826     NC_008074.1  Schistosoma haematobium\n",
       "7827     NC_049568.1          Bubalus bubalis\n",
       "\n",
       "[7828 rows x 2 columns]"
      ]
     },
     "execution_count": 32,
     "metadata": {},
     "output_type": "execute_result"
    }
   ],
   "source": [
    "df"
   ]
  },
  {
   "cell_type": "code",
   "execution_count": 43,
   "id": "895475ae",
   "metadata": {},
   "outputs": [],
   "source": [
    "with open('identifiers_mito', 'w') as fo:\n",
    "    for Id in df.Id:\n",
    "        fo.write(Id + '\\n')"
   ]
  },
  {
   "cell_type": "code",
   "execution_count": null,
   "id": "e487c55c",
   "metadata": {},
   "outputs": [],
   "source": []
  },
  {
   "cell_type": "code",
   "execution_count": null,
   "id": "ad946a43",
   "metadata": {},
   "outputs": [],
   "source": []
  },
  {
   "cell_type": "code",
   "execution_count": null,
   "id": "716c9293",
   "metadata": {},
   "outputs": [],
   "source": []
  },
  {
   "cell_type": "code",
   "execution_count": null,
   "id": "0c08b199",
   "metadata": {},
   "outputs": [],
   "source": []
  },
  {
   "cell_type": "code",
   "execution_count": null,
   "id": "fe661812",
   "metadata": {},
   "outputs": [],
   "source": []
  }
 ],
 "metadata": {
  "kernelspec": {
   "display_name": "Python 3 (ipykernel)",
   "language": "python",
   "name": "python3"
  },
  "language_info": {
   "codemirror_mode": {
    "name": "ipython",
    "version": 3
   },
   "file_extension": ".py",
   "mimetype": "text/x-python",
   "name": "python",
   "nbconvert_exporter": "python",
   "pygments_lexer": "ipython3",
   "version": "3.8.10"
  }
 },
 "nbformat": 4,
 "nbformat_minor": 5
}
