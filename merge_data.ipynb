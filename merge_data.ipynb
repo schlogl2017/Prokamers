{
 "cells": [
  {
   "cell_type": "code",
   "execution_count": 8,
   "id": "25d3146f",
   "metadata": {},
   "outputs": [],
   "source": [
    "import pathlib\n",
    "import os\n",
    "import glob\n",
    "import re\n",
    "import csv\n",
    "from collections import defaultdict\n",
    "import pandas as pd\n",
    "import numpy as np"
   ]
  },
  {
   "cell_type": "code",
   "execution_count": 2,
   "id": "adcd8ad5",
   "metadata": {},
   "outputs": [
    {
     "data": {
      "text/plain": [
       "'/media/paulosschlogl/Paulo/pauloscchlogl/Genome_kmers'"
      ]
     },
     "execution_count": 2,
     "metadata": {},
     "output_type": "execute_result"
    }
   ],
   "source": [
    "os.getcwd()"
   ]
  },
  {
   "cell_type": "code",
   "execution_count": 3,
   "id": "664333b8",
   "metadata": {},
   "outputs": [],
   "source": [
    "dir_in = \"Jelly/Bacteria/Pseudomonadota/Acidithiobacillia/CHR\"\n",
    "dir_out = \"Jelly/Bacteria/Pseudomonadota/Acidithiobacillia/CHR\""
   ]
  },
  {
   "cell_type": "code",
   "execution_count": 4,
   "id": "d170966d",
   "metadata": {},
   "outputs": [],
   "source": [
    "file_names = open(\"jelly_sorted_uniq\", 'r')"
   ]
  },
  {
   "cell_type": "code",
   "execution_count": 5,
   "id": "9ed25f8d",
   "metadata": {},
   "outputs": [],
   "source": [
    "geno_ids = [name.strip() for name in file_names]"
   ]
  },
  {
   "cell_type": "code",
   "execution_count": 6,
   "id": "803506f8",
   "metadata": {},
   "outputs": [],
   "source": [
    "file_names.close()"
   ]
  },
  {
   "cell_type": "code",
   "execution_count": 7,
   "id": "20818abd",
   "metadata": {},
   "outputs": [
    {
     "data": {
      "text/plain": [
       "(78,\n",
       " ['GCA_000020825.1',\n",
       "  'GCA_000021485.1',\n",
       "  'GCA_000175575.2',\n",
       "  'GCA_000179815.2',\n",
       "  'GCA_000214095.3',\n",
       "  'GCA_000221025.1',\n",
       "  'GCA_000423825.1',\n",
       "  'GCA_000559045.1',\n",
       "  'GCA_000709715.1',\n",
       "  'GCA_000732185.1'])"
      ]
     },
     "execution_count": 7,
     "metadata": {},
     "output_type": "execute_result"
    }
   ],
   "source": [
    "len(geno_ids), geno_ids[:10]"
   ]
  },
  {
   "cell_type": "code",
   "execution_count": 12,
   "id": "4e9c2fe0",
   "metadata": {},
   "outputs": [
    {
     "data": {
      "text/plain": [
       "'Assembly , Size(Mb)\\n'"
      ]
     },
     "execution_count": 12,
     "metadata": {},
     "output_type": "execute_result"
    }
   ],
   "source": [
    "header"
   ]
  },
  {
   "cell_type": "code",
   "execution_count": 15,
   "id": "82745a3e",
   "metadata": {},
   "outputs": [
    {
     "data": {
      "text/plain": [
       "defaultdict(int,\n",
       "            {'GCA_016936895.1': 2241660,\n",
       "             'GCA_001304445.1': 2283080,\n",
       "             'GCA_001304215.1': 2616360,\n",
       "             'GCA_001303835.1': 2826030,\n",
       "             'GCA_018853595.1': 3501040,\n",
       "             'GCA_001931655.1': 3503320,\n",
       "             'GCA_008694225.1': 2876630,\n",
       "             'GCA_000221025.1': 3237600,\n",
       "             'GCA_000175575.2': 2987050,\n",
       "             'GCA_001650235.3': 2950010,\n",
       "             'GCA_001756725.1': 3160070,\n",
       "             'GCA_001756745.1': 3143080,\n",
       "             'GCA_001756675.1': 3122210,\n",
       "             'GCA_018853615.1': 3019180,\n",
       "             'GCA_018853575.1': 2900080,\n",
       "             'GCA_018853545.1': 2860040,\n",
       "             'GCA_010378095.1': 3165860,\n",
       "             'GCA_003966655.1': 2921400,\n",
       "             'GCA_003309025.1': 2716890,\n",
       "             'GCA_018854635.1': 2899100,\n",
       "             'GCA_018854615.1': 3142010,\n",
       "             'GCA_018854535.1': 3133510,\n",
       "             'GCA_018854695.1': 2917380,\n",
       "             'GCA_018854545.1': 2944280,\n",
       "             'GCA_018854555.1': 3110860,\n",
       "             'GCA_027445705.1': 2227020,\n",
       "             'GCA_020844025.1': 2539320,\n",
       "             'GCA_028215975.1': 2694050,\n",
       "             'GCA_019572275.1': 2924940,\n",
       "             'GCA_019400025.1': 2874120,\n",
       "             'GCA_018854875.1': 2816260,\n",
       "             'GCA_018854825.1': 2722100,\n",
       "             'GCA_018854755.1': 2699360,\n",
       "             'GCA_019572245.1': 2526960,\n",
       "             'GCA_018854785.1': 2492880,\n",
       "             'GCA_018854775.1': 2446230,\n",
       "             'GCA_900174455.1': 3456110,\n",
       "             'GCA_000214095.3': 3207550,\n",
       "             'GCA_016250455.1': 3161380,\n",
       "             'GCA_018853935.1': 4623390,\n",
       "             'GCA_000750615.1': 3433670,\n",
       "             'GCA_001857665.2': 3320480,\n",
       "             'GCA_001685225.1': 2996580,\n",
       "             'GCA_018854855.1': 2989470,\n",
       "             'GCA_022730435.1': 2725480,\n",
       "             'GCA_002255305.1': 2698800,\n",
       "             'GCA_013462805.1': 3257040,\n",
       "             'GCA_019856615.1': 3255500,\n",
       "             'GCA_020887015.1': 3249850,\n",
       "             'GCA_020221655.1': 3217720,\n",
       "             'GCA_000021485.1': 2982400,\n",
       "             'GCA_000020825.1': 2885040,\n",
       "             'GCA_000732185.1': 4184220,\n",
       "             'GCA_010577825.1': 3832340,\n",
       "             'GCA_027446505.1': 3762540,\n",
       "             'GCA_024626545.1': 3620320,\n",
       "             'GCA_008926505.1': 2933810,\n",
       "             'GCA_024396695.1': 2755470,\n",
       "             'GCA_017165985.1': 4332960,\n",
       "             'GCA_002733395.1': 3578020,\n",
       "             'GCA_018853815.1': 3232960,\n",
       "             'GCA_015100135.1': 3209820,\n",
       "             'GCA_015100155.1': 3200420,\n",
       "             'GCA_028065135.1': 3728970,\n",
       "             'GCA_000179815.2': 3174930,\n",
       "             'GCA_023255755.1': 2728690,\n",
       "             'GCA_003721225.1': 2816860,\n",
       "             'GCA_009662475.1': 3415730,\n",
       "             'GCA_001705695.1': 3946940,\n",
       "             'GCA_001705805.1': 3946850,\n",
       "             'GCA_000709715.1': 3937900,\n",
       "             'GCA_001705625.1': 3854140,\n",
       "             'GCA_001705755.1': 3831700,\n",
       "             'GCA_000559045.1': 3820160,\n",
       "             'GCA_002079865.1': 3974950,\n",
       "             'GCA_006718285.1': 3453160,\n",
       "             'GCA_027446465.1': 3285020,\n",
       "             'GCA_000423825.1': 2958500})"
      ]
     },
     "execution_count": 15,
     "metadata": {},
     "output_type": "execute_result"
    }
   ],
   "source": [
    "length_file = \"Genomes_new/Bacteria/Pseudomonadota/Acidithiobacillia/Acidithiobacillia_len.csv\"\n",
    "# Mb = 1,000,000\n",
    "lengths = defaultdict(int)\n",
    "with open(length_file, \"r\") as csvfile:\n",
    "    reader = csv.reader(csvfile)\n",
    "    # escape the header of the csv file\n",
    "    header = csvfile.readline()\n",
    "    for line in reader:\n",
    "        # line is a list\n",
    "        geno_id = line[0].strip()\n",
    "        # converting Mb to bp\n",
    "        geno_len = round(float(line[1].strip()) * 1000000)\n",
    "        lengths[geno_id] = lengths.get(geno_id, 0) + geno_len\n",
    "lengths"
   ]
  },
  {
   "cell_type": "code",
   "execution_count": 16,
   "id": "6581f762",
   "metadata": {},
   "outputs": [],
   "source": [
    "filenames = glob.glob(f\"{dir_in}/*.dump\")"
   ]
  },
  {
   "cell_type": "code",
   "execution_count": 17,
   "id": "c8d5ca49",
   "metadata": {},
   "outputs": [
    {
     "data": {
      "text/plain": [
       "'Jelly/Bacteria/Pseudomonadota/Acidithiobacillia/CHR/GCA_027446465.1_9.dump'"
      ]
     },
     "execution_count": 17,
     "metadata": {},
     "output_type": "execute_result"
    }
   ],
   "source": [
    "filenames[0]"
   ]
  },
  {
   "cell_type": "code",
   "execution_count": 18,
   "id": "55e2b43c",
   "metadata": {},
   "outputs": [
    {
     "data": {
      "text/plain": [
       "re.compile(r'(GC[AF]_\\d+\\.\\d)', re.UNICODE)"
      ]
     },
     "execution_count": 18,
     "metadata": {},
     "output_type": "execute_result"
    }
   ],
   "source": [
    "rg =  re.compile(r\"(GC[AF]_\\d+\\.\\d)\")\n",
    "rg"
   ]
  },
  {
   "cell_type": "code",
   "execution_count": 20,
   "id": "6e97aa64",
   "metadata": {},
   "outputs": [],
   "source": [
    "def get_assembly_ids(string, regex):\n",
    "    assm = regex.search(string).group()\n",
    "    return assm"
   ]
  },
  {
   "cell_type": "code",
   "execution_count": null,
   "id": "9675c92e",
   "metadata": {},
   "outputs": [],
   "source": [
    "#name = get_assembly_ids(filenames[0], rg)"
   ]
  },
  {
   "cell_type": "code",
   "execution_count": 61,
   "id": "29246069",
   "metadata": {},
   "outputs": [],
   "source": [
    "def merge_jelly_dump_kmer(name, filenames, rg):\n",
    "    grouped_files = []\n",
    "    for filename in filenames:\n",
    "        m = get_assembly_ids(filename, rg)\n",
    "        if name == m:\n",
    "            grouped_files.append(filename)\n",
    "    dfs = [pd.read_table(filename, \n",
    "                         sep=\"\\s+\", \n",
    "                         names=[\"kmer\", \n",
    "                                \"observed\"]) for filename in grouped_files]\n",
    "    df = pd.concat(dfs)\n",
    "    df.index = df[\"kmer\"].str.len()\n",
    "    df = df.sort_index(ascending=True).reset_index(drop=True)\n",
    "    mask = df['kmer'].str.len() == 1\n",
    "    length = df[mask]['observed'].sum()\n",
    "    df['observed_freq'] = df[\"observed\"] / length\n",
    "    return df"
   ]
  },
  {
   "cell_type": "code",
   "execution_count": 62,
   "id": "28de5a07",
   "metadata": {},
   "outputs": [],
   "source": [
    "df = merge_jelly_dump_kmer('GCA_027446465.1', filenames, rg)"
   ]
  },
  {
   "cell_type": "code",
   "execution_count": 63,
   "id": "9ba69f42",
   "metadata": {},
   "outputs": [
    {
     "data": {
      "text/html": [
       "<div>\n",
       "<style scoped>\n",
       "    .dataframe tbody tr th:only-of-type {\n",
       "        vertical-align: middle;\n",
       "    }\n",
       "\n",
       "    .dataframe tbody tr th {\n",
       "        vertical-align: top;\n",
       "    }\n",
       "\n",
       "    .dataframe thead th {\n",
       "        text-align: right;\n",
       "    }\n",
       "</style>\n",
       "<table border=\"1\" class=\"dataframe\">\n",
       "  <thead>\n",
       "    <tr style=\"text-align: right;\">\n",
       "      <th></th>\n",
       "      <th>kmer</th>\n",
       "      <th>observed</th>\n",
       "      <th>observed_freq</th>\n",
       "    </tr>\n",
       "  </thead>\n",
       "  <tbody>\n",
       "    <tr>\n",
       "      <th>0</th>\n",
       "      <td>T</td>\n",
       "      <td>772009</td>\n",
       "      <td>0.235011</td>\n",
       "    </tr>\n",
       "    <tr>\n",
       "      <th>1</th>\n",
       "      <td>G</td>\n",
       "      <td>869480</td>\n",
       "      <td>0.264683</td>\n",
       "    </tr>\n",
       "    <tr>\n",
       "      <th>2</th>\n",
       "      <td>C</td>\n",
       "      <td>870215</td>\n",
       "      <td>0.264906</td>\n",
       "    </tr>\n",
       "    <tr>\n",
       "      <th>3</th>\n",
       "      <td>A</td>\n",
       "      <td>773286</td>\n",
       "      <td>0.235400</td>\n",
       "    </tr>\n",
       "    <tr>\n",
       "      <th>4</th>\n",
       "      <td>AT</td>\n",
       "      <td>214084</td>\n",
       "      <td>0.065170</td>\n",
       "    </tr>\n",
       "  </tbody>\n",
       "</table>\n",
       "</div>"
      ],
      "text/plain": [
       "  kmer  observed  observed_freq\n",
       "0    T    772009       0.235011\n",
       "1    G    869480       0.264683\n",
       "2    C    870215       0.264906\n",
       "3    A    773286       0.235400\n",
       "4   AT    214084       0.065170"
      ]
     },
     "execution_count": 63,
     "metadata": {},
     "output_type": "execute_result"
    }
   ],
   "source": [
    "df.head()"
   ]
  },
  {
   "cell_type": "code",
   "execution_count": 54,
   "id": "4dc601b8",
   "metadata": {},
   "outputs": [],
   "source": [
    "mask = df['kmer'].str.len() == 1"
   ]
  },
  {
   "cell_type": "code",
   "execution_count": 64,
   "id": "02a6617d",
   "metadata": {},
   "outputs": [
    {
     "data": {
      "text/plain": [
       "(3284990, 1.0)"
      ]
     },
     "execution_count": 64,
     "metadata": {},
     "output_type": "execute_result"
    }
   ],
   "source": [
    "df[mask]['observed'].sum(), df[mask]['observed_freq'].sum()"
   ]
  },
  {
   "cell_type": "code",
   "execution_count": 68,
   "id": "034c1a54",
   "metadata": {},
   "outputs": [
    {
     "data": {
      "text/plain": [
       "0.9999917807968974"
      ]
     },
     "execution_count": 68,
     "metadata": {},
     "output_type": "execute_result"
    }
   ],
   "source": [
    "mask2 = df['kmer'].str.len() == 10\n",
    "df[mask2]['observed_freq'].sum()"
   ]
  },
  {
   "cell_type": "code",
   "execution_count": 35,
   "id": "97849851",
   "metadata": {},
   "outputs": [],
   "source": [
    "df[\"frequency\"] = df[\"observed\"] / lengths[\"GCA_027446465.1\"]"
   ]
  },
  {
   "cell_type": "code",
   "execution_count": 36,
   "id": "4f79b821",
   "metadata": {},
   "outputs": [
    {
     "data": {
      "text/html": [
       "<div>\n",
       "<style scoped>\n",
       "    .dataframe tbody tr th:only-of-type {\n",
       "        vertical-align: middle;\n",
       "    }\n",
       "\n",
       "    .dataframe tbody tr th {\n",
       "        vertical-align: top;\n",
       "    }\n",
       "\n",
       "    .dataframe thead th {\n",
       "        text-align: right;\n",
       "    }\n",
       "</style>\n",
       "<table border=\"1\" class=\"dataframe\">\n",
       "  <thead>\n",
       "    <tr style=\"text-align: right;\">\n",
       "      <th></th>\n",
       "      <th>kmer</th>\n",
       "      <th>observed</th>\n",
       "      <th>frequency</th>\n",
       "    </tr>\n",
       "  </thead>\n",
       "  <tbody>\n",
       "    <tr>\n",
       "      <th>0</th>\n",
       "      <td>T</td>\n",
       "      <td>772009</td>\n",
       "      <td>2.350089e-01</td>\n",
       "    </tr>\n",
       "    <tr>\n",
       "      <th>1</th>\n",
       "      <td>G</td>\n",
       "      <td>869480</td>\n",
       "      <td>2.646803e-01</td>\n",
       "    </tr>\n",
       "    <tr>\n",
       "      <th>2</th>\n",
       "      <td>C</td>\n",
       "      <td>870215</td>\n",
       "      <td>2.649040e-01</td>\n",
       "    </tr>\n",
       "    <tr>\n",
       "      <th>3</th>\n",
       "      <td>A</td>\n",
       "      <td>773286</td>\n",
       "      <td>2.353977e-01</td>\n",
       "    </tr>\n",
       "    <tr>\n",
       "      <th>4</th>\n",
       "      <td>AT</td>\n",
       "      <td>214084</td>\n",
       "      <td>6.516977e-02</td>\n",
       "    </tr>\n",
       "    <tr>\n",
       "      <th>...</th>\n",
       "      <td>...</td>\n",
       "      <td>...</td>\n",
       "      <td>...</td>\n",
       "    </tr>\n",
       "    <tr>\n",
       "      <th>1222041</th>\n",
       "      <td>CCGGCTATAT</td>\n",
       "      <td>4</td>\n",
       "      <td>1.217649e-06</td>\n",
       "    </tr>\n",
       "    <tr>\n",
       "      <th>1222042</th>\n",
       "      <td>CCGGCTATCA</td>\n",
       "      <td>4</td>\n",
       "      <td>1.217649e-06</td>\n",
       "    </tr>\n",
       "    <tr>\n",
       "      <th>1222043</th>\n",
       "      <td>CCGGCTATCC</td>\n",
       "      <td>9</td>\n",
       "      <td>2.739709e-06</td>\n",
       "    </tr>\n",
       "    <tr>\n",
       "      <th>1222044</th>\n",
       "      <td>CCGGCTATCT</td>\n",
       "      <td>3</td>\n",
       "      <td>9.132364e-07</td>\n",
       "    </tr>\n",
       "    <tr>\n",
       "      <th>1222045</th>\n",
       "      <td>CCTTGAGCGA</td>\n",
       "      <td>14</td>\n",
       "      <td>4.261770e-06</td>\n",
       "    </tr>\n",
       "  </tbody>\n",
       "</table>\n",
       "<p>1222046 rows × 3 columns</p>\n",
       "</div>"
      ],
      "text/plain": [
       "               kmer  observed     frequency\n",
       "0                 T    772009  2.350089e-01\n",
       "1                 G    869480  2.646803e-01\n",
       "2                 C    870215  2.649040e-01\n",
       "3                 A    773286  2.353977e-01\n",
       "4                AT    214084  6.516977e-02\n",
       "...             ...       ...           ...\n",
       "1222041  CCGGCTATAT         4  1.217649e-06\n",
       "1222042  CCGGCTATCA         4  1.217649e-06\n",
       "1222043  CCGGCTATCC         9  2.739709e-06\n",
       "1222044  CCGGCTATCT         3  9.132364e-07\n",
       "1222045  CCTTGAGCGA        14  4.261770e-06\n",
       "\n",
       "[1222046 rows x 3 columns]"
      ]
     },
     "execution_count": 36,
     "metadata": {},
     "output_type": "execute_result"
    }
   ],
   "source": [
    "df"
   ]
  },
  {
   "cell_type": "code",
   "execution_count": 29,
   "id": "c9d126c4",
   "metadata": {},
   "outputs": [],
   "source": [
    "#l = lengths[\"GCA_027446465.1\"]"
   ]
  },
  {
   "cell_type": "code",
   "execution_count": 30,
   "id": "11dc891a",
   "metadata": {},
   "outputs": [
    {
     "data": {
      "text/plain": [
       "(0.23500891927598613,\n",
       " 0.2646802759191725,\n",
       " 0.2649040188492003,\n",
       " 0.23539765359115014)"
      ]
     },
     "execution_count": 30,
     "metadata": {},
     "output_type": "execute_result"
    }
   ],
   "source": [
    "#772009/l, 869480/l, 870215/l, 773286/l"
   ]
  },
  {
   "cell_type": "code",
   "execution_count": 32,
   "id": "0a87e9b7",
   "metadata": {},
   "outputs": [
    {
     "data": {
      "text/plain": [
       "0.9999908676355092"
      ]
     },
     "execution_count": 32,
     "metadata": {},
     "output_type": "execute_result"
    }
   ],
   "source": [
    "#sum([772009/l, 869480/l, 870215/l, 773286/l])"
   ]
  },
  {
   "cell_type": "code",
   "execution_count": 43,
   "id": "3adc69a0",
   "metadata": {},
   "outputs": [],
   "source": [
    "# length - k + 1\n",
    "#l2 = sum([772009, 869480, 870215, 773286])"
   ]
  },
  {
   "cell_type": "code",
   "execution_count": 60,
   "id": "ba53edba",
   "metadata": {},
   "outputs": [
    {
     "data": {
      "text/plain": [
       "(3284990, 3285020, 30, -30)"
      ]
     },
     "execution_count": 60,
     "metadata": {},
     "output_type": "execute_result"
    }
   ],
   "source": [
    "#l2, l, l - l2, l2 -l"
   ]
  },
  {
   "cell_type": "code",
   "execution_count": 44,
   "id": "a575e7da",
   "metadata": {},
   "outputs": [
    {
     "data": {
      "text/plain": [
       "1.0"
      ]
     },
     "execution_count": 44,
     "metadata": {},
     "output_type": "execute_result"
    }
   ],
   "source": [
    "#sum([772009/l2, 869480/l2, 870215/l2, 773286/l2])"
   ]
  },
  {
   "cell_type": "code",
   "execution_count": 38,
   "id": "7c5e29d5",
   "metadata": {},
   "outputs": [
    {
     "data": {
      "text/plain": [
       "(3284990, 3285020)"
      ]
     },
     "execution_count": 38,
     "metadata": {},
     "output_type": "execute_result"
    }
   ],
   "source": [
    "#sum([772009, 869480, 870215, 773286]), l"
   ]
  },
  {
   "cell_type": "code",
   "execution_count": 41,
   "id": "5742dc5f",
   "metadata": {},
   "outputs": [
    {
     "data": {
      "text/plain": [
       "(0.23501106548269554, 0.23500891927598613)"
      ]
     },
     "execution_count": 41,
     "metadata": {},
     "output_type": "execute_result"
    }
   ],
   "source": [
    "#772009/sum([772009, 869480, 870215, 773286]), 772009/l"
   ]
  },
  {
   "cell_type": "code",
   "execution_count": 42,
   "id": "8365af51",
   "metadata": {},
   "outputs": [
    {
     "data": {
      "text/plain": [
       "(30, 2.146206709408016e-06)"
      ]
     },
     "execution_count": 42,
     "metadata": {},
     "output_type": "execute_result"
    }
   ],
   "source": [
    "#0.23501106548269554 - 0.23500891927598613"
   ]
  },
  {
   "cell_type": "code",
   "execution_count": 70,
   "id": "b9378c66",
   "metadata": {},
   "outputs": [],
   "source": [
    "#outfile = f\"{dir_out}/{name}_k1_10.csv\""
   ]
  },
  {
   "cell_type": "code",
   "execution_count": 71,
   "id": "7b5bd3c5",
   "metadata": {},
   "outputs": [],
   "source": [
    "cnt = 0\n",
    "\n",
    "for geno in geno_ids:\n",
    "    df = merge_jelly_dump_kmer(geno, filenames, rg)\n",
    "    out_file = f\"{dir_out}/{geno}_k1_10.csv\"\n",
    "    df.to_csv(out_file, index=False)\n",
    "    cnt += 1"
   ]
  },
  {
   "cell_type": "code",
   "execution_count": 72,
   "id": "8ca230d6",
   "metadata": {},
   "outputs": [
    {
     "name": "stdout",
     "output_type": "stream",
     "text": [
      "Number of csv files created: 78\n"
     ]
    }
   ],
   "source": [
    "print(f\"Number of csv files created: {cnt}\")"
   ]
  },
  {
   "cell_type": "code",
   "execution_count": null,
   "id": "54476b20",
   "metadata": {},
   "outputs": [],
   "source": []
  }
 ],
 "metadata": {
  "kernelspec": {
   "display_name": "Python 3 (ipykernel)",
   "language": "python",
   "name": "python3"
  },
  "language_info": {
   "codemirror_mode": {
    "name": "ipython",
    "version": 3
   },
   "file_extension": ".py",
   "mimetype": "text/x-python",
   "name": "python",
   "nbconvert_exporter": "python",
   "pygments_lexer": "ipython3",
   "version": "3.10.9"
  }
 },
 "nbformat": 4,
 "nbformat_minor": 5
}
