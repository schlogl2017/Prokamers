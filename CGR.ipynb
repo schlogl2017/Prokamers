{
 "cells": [
  {
   "cell_type": "code",
   "execution_count": 1,
   "id": "ea366c1d",
   "metadata": {},
   "outputs": [],
   "source": [
    "import collections\n",
    "from collections import OrderedDict\n",
    "from matplotlib import pyplot as plt\n",
    "from matplotlib import cm\n",
    "import pylab\n",
    "import math\n",
    "import numpy as np\n",
    "from operator import add\n",
    "from scipy.stats import pearsonr\n",
    "from scipy.stats import spearmanr"
   ]
  },
  {
   "cell_type": "code",
   "execution_count": 6,
   "id": "053b95a9",
   "metadata": {},
   "outputs": [],
   "source": [
    "class CGR():\n",
    "    K = 0\n",
    "    c = None\n",
    "    h = \"\"\n",
    "    Data = \"\"\n",
    "    i = 0\n",
    "    def __init__(self,a):\n",
    "        self.i=a\n",
    "    def read_fasta(self,loc):\n",
    "        f = open(loc)\n",
    "        s1 = f.read()\n",
    "        data = \"\".join(s1.split(\"\\n\")[1:])\n",
    "        head = \"\".join(s1.split(\"\\n\")[0:1])\n",
    "        return data,head\n",
    "    \n",
    "    def count_kmers(self,sequence, k):\n",
    "        d = collections.defaultdict(int)\n",
    "        for i in range(len(self.Data)-(k-1)):\n",
    "            d[sequence[i:i+k]] +=1\n",
    "        d.pop(\"N\",None)\n",
    "        return d\n",
    "\n",
    "    def probabilities(self,kmer_count, k):\n",
    "        probabilities = collections.defaultdict(float)\n",
    "        N = len(self.Data)\n",
    "        for key, value in kmer_count.items():\n",
    "            probabilities[key] = float(value) / (N - k + 1)\n",
    "        return probabilities\n",
    "\n",
    "    def chaos_game_representation(self,probabilities, k):\n",
    "        array_size = int(math.sqrt(4**k))\n",
    "        chaos = []\n",
    "        for i in range(array_size):\n",
    "            chaos.append([0]*array_size)\n",
    "        maxx = array_size\n",
    "        maxy = array_size\n",
    "        posx = 1\n",
    "        posy = 1\n",
    "        for key, value in probabilities.items():\n",
    "            for char in key:\n",
    "                if char == \"T\":\n",
    "                    posx +=  maxx/2\n",
    "                elif char == \"C\":\n",
    "                    posy += maxy/2\n",
    "                elif char == \"G\":\n",
    "                    posx += maxx/2\n",
    "                    posy += maxy/2\n",
    "                maxx /= 2\n",
    "                maxy /= 2\n",
    "\n",
    "            chaos[int(posy-1)][int(posx-1)] = value\n",
    "            maxx = array_size\n",
    "            maxy = array_size\n",
    "            posx = 1\n",
    "            posy = 1\n",
    "        m = float(np.amax(chaos))\n",
    "        c = np.array(chaos)/m\n",
    "        return c\n",
    "\n",
    "    def load_fasta(self,loc,k):\n",
    "        data,head = self.read_fasta(loc)\n",
    "        self.Data = data\n",
    "        f4 = self.count_kmers(data, k)\n",
    "        f4_prob = self.probabilities(f4, k)\n",
    "        chaos_k4 = self.chaos_game_representation(f4_prob, k)\n",
    "        self.c = chaos_k4\n",
    "        self.h = head\n",
    "        return chaos_k4\n",
    "    \n",
    "    def show(self):\n",
    "        plt.figure(figsize=(12,12))\n",
    "        plt.title('CGR of '+str(self.K)+'-mers for '+self.h[2:])\n",
    "        plt.pcolor(self.c,cmap=cm.gray_r)#,interpolation = \"spline36\")\n",
    "        #pylab.savefig(str(self.i)+\".PNG\")\n",
    "        plt.show()\n",
    "    \n",
    "    def show_v2(self):\n",
    "        pylab.figure(figsize=(12,12))\n",
    "        pylab.title('CGR of '+str(self.K)+'-mers for '+self.h[2:])\n",
    "        pylab.imshow(self.c, cmap=\"binary_r\")#,interpolation = \"spline36\")\n",
    "        pylab.savefig(str(self.i)+\".PNG\")\n",
    "        pylab.show()\n"
   ]
  },
  {
   "cell_type": "code",
   "execution_count": 8,
   "id": "80a96637",
   "metadata": {},
   "outputs": [],
   "source": [
    "B = CGR(1)\n",
    "cg = B.load_fasta(\"Temp/GCA_000007005.1_chr.fna\", 4)"
   ]
  },
  {
   "cell_type": "code",
   "execution_count": 9,
   "id": "6d63af86",
   "metadata": {},
   "outputs": [
    {
     "data": {
      "image/png": "[encoded data removed]",
      "text/plain": [
       "<Figure size 1200x1200 with 1 Axes>"
      ]
     },
     "metadata": {},
     "output_type": "display_data"
    }
   ],
   "source": [
    "x = B.show_v2()"
   ]
  },
  {
   "cell_type": "code",
   "execution_count": 15,
   "id": "c5eb4613",
   "metadata": {},
   "outputs": [],
   "source": [
    "f = open(\"Temp/GCA_000007005.1_chr.fna\")\n",
    "s1 = f.read()\n",
    "data_1 = \"\".join(s1.split(\"\\n\")[1:])"
   ]
  },
  {
   "cell_type": "code",
   "execution_count": 17,
   "id": "0443523b",
   "metadata": {},
   "outputs": [],
   "source": [
    "import sys\n",
    "import os\n",
    "import re\n",
    "from collections import defaultdict\n",
    "import matplotlib.pyplot as plt\n",
    "from Bio import SeqIO\n"
   ]
  },
  {
   "cell_type": "code",
   "execution_count": 18,
   "id": "5378e276",
   "metadata": {},
   "outputs": [],
   "source": [
    "# defining cgr graph\n",
    "# CGR_CENTER = (0.5, 0.5)\n",
    "CGR_X_MAX = 1\n",
    "CGR_Y_MAX = 1\n",
    "CGR_X_MIN = 0\n",
    "CGR_Y_MIN = 0\n",
    "CGR_A = (CGR_X_MIN, CGR_Y_MIN)\n",
    "CGR_T = (CGR_X_MAX, CGR_Y_MIN)\n",
    "CGR_G = (CGR_X_MAX, CGR_Y_MAX)\n",
    "CGR_C = (CGR_X_MIN, CGR_Y_MAX)\n",
    "CGR_CENTER = ((CGR_X_MAX - CGR_Y_MIN) / 2, (CGR_Y_MAX - CGR_Y_MIN) / 2)\n"
   ]
  },
  {
   "cell_type": "code",
   "execution_count": 19,
   "id": "7922d793",
   "metadata": {},
   "outputs": [],
   "source": [
    "def empty_dict():\n",
    "\t\"\"\"\n",
    "\tNone type return vessel for defaultdict\n",
    "\t:return:\n",
    "\t\"\"\"\n",
    "\treturn None\n",
    "\n",
    "\n",
    "CGR_DICT = defaultdict(\n",
    "\tempty_dict,\n",
    "\t[\n",
    "\t\t('A', CGR_A),  # Adenine\n",
    "\t\t('T', CGR_T),  # Thymine\n",
    "\t\t('G', CGR_G),  # Guanine\n",
    "\t\t('C', CGR_C),  # Cytosine\n",
    "\t\t('U', CGR_T),  # Uracil demethylated form of thymine\n",
    "\t\t('a', CGR_A),  # Adenine\n",
    "\t\t('t', CGR_T),  # Thymine\n",
    "\t\t('g', CGR_G),  # Guanine\n",
    "\t\t('c', CGR_C),  # Cytosine\n",
    "\t\t('u', CGR_T)  # Uracil/Thymine\n",
    "\t\t]\n",
    ")\n",
    "\n",
    "\n",
    "def fasta_reader(fasta):\n",
    "\t\"\"\"Return a generator with sequence description and sequence\n",
    "\n",
    "\t:param fasta: str filename\n",
    "\t\"\"\"\n",
    "\t# TODO: modify it to be capable of reading genebank etc\n",
    "\tflist = SeqIO.parse(fasta, \"fasta\")\n",
    "\tfor i in flist:\n",
    "\t\tyield i.description, i.seq\n",
    "\n",
    "\n",
    "def mk_cgr(seq):\n",
    "\t\"\"\"Generate cgr\n",
    "\n",
    "\t:param seq: list of nucleotide\n",
    "\t:return cgr: [['nt', (x, y)]] List[List[Tuple(float, float)]]\n",
    "\t\"\"\"\n",
    "\tcgr = []\n",
    "\tcgr_marker = CGR_CENTER[:\n",
    "\t\t]    # The center of square which serves as first marker\n",
    "\tfor s in seq:\n",
    "\t\tcgr_corner = CGR_DICT[s]\n",
    "\t\tif cgr_corner:\n",
    "\t\t\tcgr_marker = (\n",
    "\t\t\t\t(cgr_corner[0] + cgr_marker[0]) / 2,\n",
    "\t\t\t\t(cgr_corner[1] + cgr_marker[1]) / 2\n",
    "\t\t\t)\n",
    "\t\t\tcgr.append([s, cgr_marker])\n",
    "\t\telse:\n",
    "\t\t\tsys.stderr.write(\"Bad Nucleotide: \" + s + \" \\n\")\n",
    "\n",
    "\treturn cgr\n",
    "\n",
    "\n",
    "def mk_plot(cgr, name, figid):\n",
    "\t\"\"\"Plotting the cgr\n",
    "\t\t:param cgr: [(A, (0.1, 0.1))]\n",
    "\t\t:param name: str\n",
    "\t\t:param figid: int\n",
    "\t\t:return dict: {'fignum': figid, 'title': name, 'fname': helper.slugify(name)}\n",
    "\t\"\"\"\n",
    "\tx_axis = [i[1][0] for i in cgr]\n",
    "\ty_axis = [i[1][1] for i in cgr]\n",
    "\tplt.figure(figid)\n",
    "\tplt.title(\"Chaos Game Representation\\n\" + name, wrap=True)\n",
    "\t# diagonal and vertical cross\n",
    "\t# plt.plot([x1, x2], [y1, y2])\n",
    "\t# plt.plot([0.5,0.5], [0,1], 'k-')\n",
    "\tplt.plot([CGR_CENTER[0], CGR_CENTER[0]], [0, CGR_Y_MAX], 'k-')\n",
    "\n",
    "\t# plt.plot([0,1], [0.5,0.5], 'k-')\n",
    "\tplt.plot([CGR_Y_MIN, CGR_X_MAX], [CGR_CENTER[1], CGR_CENTER[1]], 'k-')\n",
    "\tplt.scatter(x_axis, y_axis, alpha=0.5, marker='.')\n",
    "\n",
    "\treturn {'fignum': figid, 'title': name, 'fname': slugify(name)}\n",
    "\n",
    "\n",
    "\n",
    "def slugify(value):\n",
    "\t\"\"\"Purge bad char from given string based on\n",
    "\tdjango's slugify (template/defaultfilters.py)\n",
    "\t\"\"\"\n",
    "\t#value = unicodedata.normalize('NFKD', value).encode('ascii', 'ignore')\n",
    "\tvalue = re.sub(r'[^\\w\\s-]', '', value).strip()\n",
    "\tvalue = re.sub(r'[-\\s]+', '-', value)\n",
    "\treturn value\n",
    "\n",
    "\n",
    "def write_figure(fig, output_dir, dpi=300):\n",
    "\t\"\"\"Write plot to png\n",
    "\t:param fig:  {'fignum':figid, 'title':name, 'fname':helper.slugify(name)}\n",
    "\t:param dpi: int dpi of output\n",
    "\t:param output_dir: str\n",
    "\n",
    "\tUsage:\n",
    "\t\tfigures = [mk_plot(cgr) for cgr in all_cgr]\n",
    "\t\tfor fig in figures:\n",
    "\t\t\twrite_figure(fig, \"/var/tmp/\")\n",
    "\t\tThe figid in the mk_plot's return dict must be present in plt.get_fignums()\n",
    "\t\"\"\"\n",
    "\tall_figid = plt.get_fignums()\n",
    "\tif fig['fignum'] not in all_figid:\n",
    "\t\traise ValueError(\"Figure %i not present in figlist\" % fig['fignum'])\n",
    "\tplt.figure(fig['fignum'])\n",
    "\ttarget_name = os.path.join(\n",
    "\t\toutput_dir,\n",
    "\t\tslugify(fig['fname']) + \".png\")\n",
    "\tplt.savefig(target_name, dpi=dpi)"
   ]
  },
  {
   "cell_type": "code",
   "execution_count": 20,
   "id": "186d335e",
   "metadata": {},
   "outputs": [],
   "source": [
    "cgr = mk_cgr(data_1)"
   ]
  },
  {
   "cell_type": "code",
   "execution_count": 21,
   "id": "adce4faf",
   "metadata": {},
   "outputs": [
    {
     "data": {
      "text/plain": [
       "{'fignum': 2, 'title': 'Test', 'fname': 'Test'}"
      ]
     },
     "execution_count": 21,
     "metadata": {},
     "output_type": "execute_result"
    },
    {
     "data": {
      "image/png": "[encoded data removed]",
      "text/plain": [
       "<Figure size 640x480 with 1 Axes>"
      ]
     },
     "metadata": {},
     "output_type": "display_data"
    }
   ],
   "source": [
    "mk_plot(cgr, \"Test\", 2)"
   ]
  },
  {
   "cell_type": "code",
   "execution_count": null,
   "id": "51cf9b41",
   "metadata": {},
   "outputs": [],
   "source": []
  },
  {
   "cell_type": "code",
   "execution_count": null,
   "id": "6e4a30fa",
   "metadata": {},
   "outputs": [],
   "source": []
  },
  {
   "cell_type": "code",
   "execution_count": null,
   "id": "2606ccbd",
   "metadata": {},
   "outputs": [],
   "source": []
  },
  {
   "cell_type": "code",
   "execution_count": null,
   "id": "c425b055",
   "metadata": {},
   "outputs": [],
   "source": []
  },
  {
   "cell_type": "code",
   "execution_count": null,
   "id": "5ba5597e",
   "metadata": {},
   "outputs": [],
   "source": []
  },
  {
   "cell_type": "code",
   "execution_count": null,
   "id": "66abbe79",
   "metadata": {},
   "outputs": [],
   "source": []
  }
 ],
 "metadata": {
  "kernelspec": {
   "display_name": "Python 3 (ipykernel)",
   "language": "python",
   "name": "python3"
  },
  "language_info": {
   "codemirror_mode": {
    "name": "ipython",
    "version": 3
   },
   "file_extension": ".py",
   "mimetype": "text/x-python",
   "name": "python",
   "nbconvert_exporter": "python",
   "pygments_lexer": "ipython3",
   "version": "3.10.8"
  }
 },
 "nbformat": 4,
 "nbformat_minor": 5
}
